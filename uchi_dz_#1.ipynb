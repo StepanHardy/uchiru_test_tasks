{
 "cells": [
  {
   "cell_type": "markdown",
   "metadata": {},
   "source": [
    "\n",
    "Предлагаем Вам ответить на следующие вопросы:<br>\n",
    "1) На какие метрики Вы смотрите в ходе анализа и почему?<br>\n",
    "2) Имеются ли различия в показателях и с чем они могут быть связаны?<br>\n",
    "3) Являются ли эти различия статистически значимыми?<br>\n",
    "4) Стоит ли запускать новую механику на всех пользователей?\n",
    "\n",
    "В качестве входных данных Вы имеете 3 csv-файла:<br>\n",
    "1) groups.csv : файл с информацией о принадлежности пользователя к контрольной или экспериментальной группе <br>(А'без изменений' – контроль, B 'новая механика' – целевая группа)<br>\n",
    "2) active_studs.csv : файл с информацией о пользователях, которые зашли на платформу в дни проведения эксперимента.<br>\n",
    "3) checks.csv:файл с информацией об оплатах пользователей в дни проведения эксперимента.\n",
    "<br>\n",
    "<br>"
   ]
  },
  {
   "cell_type": "code",
   "execution_count": 27,
   "metadata": {},
   "outputs": [],
   "source": [
    "import pandas as pd\n",
    "import numpy as np\n",
    "import matplotlib.pyplot as plt\n",
    "from scipy.stats import binom\n",
    "from scipy.stats import norm"
   ]
  },
  {
   "cell_type": "markdown",
   "metadata": {},
   "source": [
    "Читаем файлы"
   ]
  },
  {
   "cell_type": "code",
   "execution_count": 28,
   "metadata": {},
   "outputs": [],
   "source": [
    "df_groups = pd.read_csv('/Users/mac/Desktop/uchi dz/groups.csv', sep=';')\n",
    "df_active_studs = pd.read_csv('/Users/mac/Desktop/uchi dz/active_studs.csv', sep=';')\n",
    "df_checks = pd.read_csv('/Users/mac/Desktop/uchi dz/checks.csv', sep=';')"
   ]
  },
  {
   "cell_type": "markdown",
   "metadata": {},
   "source": [
    "Мерджим все по id"
   ]
  },
  {
   "cell_type": "code",
   "execution_count": 29,
   "metadata": {},
   "outputs": [],
   "source": [
    "df_active_studs['actived'] = 1\n",
    "df_gr_ac = pd.merge(df_groups, df_active_studs.rename(columns={'student_id': 'id'}), how='left', on=['id', 'id'])"
   ]
  },
  {
   "cell_type": "code",
   "execution_count": 30,
   "metadata": {
    "scrolled": true
   },
   "outputs": [
    {
     "data": {
      "text/html": [
       "<div>\n",
       "<style scoped>\n",
       "    .dataframe tbody tr th:only-of-type {\n",
       "        vertical-align: middle;\n",
       "    }\n",
       "\n",
       "    .dataframe tbody tr th {\n",
       "        vertical-align: top;\n",
       "    }\n",
       "\n",
       "    .dataframe thead th {\n",
       "        text-align: right;\n",
       "    }\n",
       "</style>\n",
       "<table border=\"1\" class=\"dataframe\">\n",
       "  <thead>\n",
       "    <tr style=\"text-align: right;\">\n",
       "      <th></th>\n",
       "      <th>id</th>\n",
       "      <th>grp</th>\n",
       "      <th>actived</th>\n",
       "      <th>rev</th>\n",
       "      <th>paying_user</th>\n",
       "    </tr>\n",
       "  </thead>\n",
       "  <tbody>\n",
       "    <tr>\n",
       "      <th>0</th>\n",
       "      <td>1206794</td>\n",
       "      <td>B</td>\n",
       "      <td>0.0</td>\n",
       "      <td>0.0</td>\n",
       "      <td>0</td>\n",
       "    </tr>\n",
       "    <tr>\n",
       "      <th>1</th>\n",
       "      <td>331024</td>\n",
       "      <td>B</td>\n",
       "      <td>0.0</td>\n",
       "      <td>0.0</td>\n",
       "      <td>0</td>\n",
       "    </tr>\n",
       "    <tr>\n",
       "      <th>2</th>\n",
       "      <td>1733498</td>\n",
       "      <td>A</td>\n",
       "      <td>0.0</td>\n",
       "      <td>0.0</td>\n",
       "      <td>0</td>\n",
       "    </tr>\n",
       "    <tr>\n",
       "      <th>3</th>\n",
       "      <td>161574</td>\n",
       "      <td>B</td>\n",
       "      <td>0.0</td>\n",
       "      <td>0.0</td>\n",
       "      <td>0</td>\n",
       "    </tr>\n",
       "    <tr>\n",
       "      <th>4</th>\n",
       "      <td>168443</td>\n",
       "      <td>B</td>\n",
       "      <td>0.0</td>\n",
       "      <td>0.0</td>\n",
       "      <td>0</td>\n",
       "    </tr>\n",
       "  </tbody>\n",
       "</table>\n",
       "</div>"
      ],
      "text/plain": [
       "        id grp  actived  rev  paying_user\n",
       "0  1206794   B      0.0  0.0            0\n",
       "1   331024   B      0.0  0.0            0\n",
       "2  1733498   A      0.0  0.0            0\n",
       "3   161574   B      0.0  0.0            0\n",
       "4   168443   B      0.0  0.0            0"
      ]
     },
     "execution_count": 30,
     "metadata": {},
     "output_type": "execute_result"
    }
   ],
   "source": [
    "df_checks.rename(columns={'student_id': 'id'})\n",
    "df_merged = pd.merge(df_gr_ac, df_checks.rename(columns={'student_id': 'id'}), how='left', on=['id', 'id'])\n",
    "df_merged.fillna(0, inplace=True)\n",
    "df_merged['paying_user'] = df_merged['rev'].map(lambda x: 1 if x > 0 else 0)\n",
    "\n",
    "df_merged.head() #объединенная таблица"
   ]
  },
  {
   "cell_type": "markdown",
   "metadata": {},
   "source": [
    "Количество пользователей в каждой группе"
   ]
  },
  {
   "cell_type": "code",
   "execution_count": 31,
   "metadata": {},
   "outputs": [
    {
     "data": {
      "text/plain": [
       "grp\n",
       "A    14693\n",
       "B    59883\n",
       "Name: id, dtype: int64"
      ]
     },
     "execution_count": 31,
     "metadata": {},
     "output_type": "execute_result"
    }
   ],
   "source": [
    "A_B_counts = df_merged.groupby('grp')['id'].count()\n",
    "A_B_counts "
   ]
  },
  {
   "cell_type": "code",
   "execution_count": 32,
   "metadata": {
    "scrolled": true
   },
   "outputs": [
    {
     "data": {
      "text/plain": [
       "<matplotlib.axes._subplots.AxesSubplot at 0x1a1e2707f0>"
      ]
     },
     "execution_count": 32,
     "metadata": {},
     "output_type": "execute_result"
    },
    {
     "data": {
      "image/png": "[encoded data removed]",
      "text/plain": [
       "<Figure size 432x288 with 1 Axes>"
      ]
     },
     "metadata": {},
     "output_type": "display_data"
    }
   ],
   "source": [
    "A_B_counts.plot.pie(colors = ['#66b3ff','#99ff99'], autopct='%1.1f%%', startangle=90)"
   ]
  },
  {
   "cell_type": "markdown",
   "metadata": {},
   "source": [
    "Доля активных пользователей"
   ]
  },
  {
   "cell_type": "markdown",
   "metadata": {},
   "source": [
    "# На какие метрики Вы смотрите в ходе анализа и почему?"
   ]
  },
  {
   "cell_type": "markdown",
   "metadata": {},
   "source": [
    "\n",
    "Рассматриваемые метрики для каждой группы среди пользователей посетивших сайт (active_stud) во время эксперимента<br>\n",
    "    1) Share of active users = all active users / all users                (доля активных пользователей)<br>\n",
    "    2) CR = all active paying users / all active users      (конверсия)<br>\n",
    "    3) ARPU = active rev / all active users               (средняя выручка на одного пользователя)<br>\n",
    "    4) ARPPU = active rev / all active paying users       (средняя выручка на одного платящего пользователя)<br>"
   ]
  },
  {
   "cell_type": "code",
   "execution_count": 33,
   "metadata": {},
   "outputs": [],
   "source": [
    "df_A = df_merged.loc[df_merged['grp'] == 'A']\n",
    "df_B = df_merged.loc[df_merged['grp'] == 'B']"
   ]
  },
  {
   "cell_type": "code",
   "execution_count": 34,
   "metadata": {},
   "outputs": [],
   "source": [
    "# variables for calculating metrics of A group\n",
    "A_all_users = df_A['actived'].count()\n",
    "A_all_active_users = df_A['actived'].value_counts()\n",
    "A_all_active_paying_users = df_A[(df_A['rev'] > 0) & (df_A['actived'] == 1)]['actived'].count()\n",
    "A_active_rev = df_A[df_A['actived'] == 1]['rev'].sum()\n",
    "\n",
    "\n",
    "# variables for calculating metrics of B group\n",
    "B_all_users = df_B['id'].count()\n",
    "B_all_active_users = df_B['actived'].value_counts()\n",
    "B_all_active_paying_users = df_B[(df_B['rev'] > 0) & (df_B['actived'] == 1)]['actived'].count()\n",
    "B_active_rev = df_B[df_B['actived'] == 1]['rev'].sum()"
   ]
  },
  {
   "cell_type": "markdown",
   "metadata": {},
   "source": [
    "Расчитаем метрики для группы А"
   ]
  },
  {
   "cell_type": "code",
   "execution_count": 35,
   "metadata": {},
   "outputs": [],
   "source": [
    "A_Share_of_active_users = df_A['actived'].value_counts(normalize=True)\n",
    "A_CR = A_all_active_paying_users / A_all_active_users[1]\n",
    "A_ARPU = A_active_rev / A_all_active_users[1]\n",
    "A_ARPPU = A_active_rev / A_all_active_paying_users\n",
    "metrics_A = [A_Share_of_active_users[1], A_CR, A_ARPU, A_ARPPU]"
   ]
  },
  {
   "cell_type": "markdown",
   "metadata": {},
   "source": [
    "Расчитаем метрики для группы B"
   ]
  },
  {
   "cell_type": "code",
   "execution_count": 36,
   "metadata": {},
   "outputs": [],
   "source": [
    "B_Share_of_active_users = df_B['actived'].value_counts(normalize=True)\n",
    "B_CR = B_all_active_paying_users / B_all_active_users[1]\n",
    "B_ARPU = B_active_rev / B_all_active_users[1]\n",
    "B_ARPPU = B_active_rev / B_all_active_paying_users\n",
    "metrics_B = [B_Share_of_active_users[1], B_CR, B_ARPU, B_ARPPU]"
   ]
  },
  {
   "cell_type": "markdown",
   "metadata": {},
   "source": [
    "Покажем все в одной таблице для удобства"
   ]
  },
  {
   "cell_type": "code",
   "execution_count": 37,
   "metadata": {},
   "outputs": [
    {
     "data": {
      "text/html": [
       "<div>\n",
       "<style scoped>\n",
       "    .dataframe tbody tr th:only-of-type {\n",
       "        vertical-align: middle;\n",
       "    }\n",
       "\n",
       "    .dataframe tbody tr th {\n",
       "        vertical-align: top;\n",
       "    }\n",
       "\n",
       "    .dataframe thead th {\n",
       "        text-align: right;\n",
       "    }\n",
       "</style>\n",
       "<table border=\"1\" class=\"dataframe\">\n",
       "  <thead>\n",
       "    <tr style=\"text-align: right;\">\n",
       "      <th></th>\n",
       "      <th>Metrics</th>\n",
       "      <th>A</th>\n",
       "      <th>B</th>\n",
       "    </tr>\n",
       "  </thead>\n",
       "  <tbody>\n",
       "    <tr>\n",
       "      <th>0</th>\n",
       "      <td>Active users</td>\n",
       "      <td>0.104676</td>\n",
       "      <td>0.113605</td>\n",
       "    </tr>\n",
       "    <tr>\n",
       "      <th>1</th>\n",
       "      <td>CR</td>\n",
       "      <td>0.050715</td>\n",
       "      <td>0.046156</td>\n",
       "    </tr>\n",
       "    <tr>\n",
       "      <th>2</th>\n",
       "      <td>ARPU</td>\n",
       "      <td>47.347204</td>\n",
       "      <td>58.058798</td>\n",
       "    </tr>\n",
       "    <tr>\n",
       "      <th>3</th>\n",
       "      <td>ARPPU</td>\n",
       "      <td>933.589744</td>\n",
       "      <td>1257.878992</td>\n",
       "    </tr>\n",
       "  </tbody>\n",
       "</table>\n",
       "</div>"
      ],
      "text/plain": [
       "        Metrics           A            B\n",
       "0  Active users    0.104676     0.113605\n",
       "1            CR    0.050715     0.046156\n",
       "2          ARPU   47.347204    58.058798\n",
       "3         ARPPU  933.589744  1257.878992"
      ]
     },
     "execution_count": 37,
     "metadata": {},
     "output_type": "execute_result"
    }
   ],
   "source": [
    "names = ['Active users', 'CR', 'ARPU', 'ARPPU']\n",
    "table = {'Metrics': names, 'A': metrics_A, 'B': metrics_B}\n",
    "df_ab = pd.DataFrame(table, index=None)\n",
    "df_ab"
   ]
  },
  {
   "cell_type": "markdown",
   "metadata": {},
   "source": [
    "> Активных пользователей в группе B с новой механикой больше, больше ARPU и ARPPU, но несмотря на это конверсия у нее ниже.<br>\n",
    "<br>\n",
    "Это может объясняться тем, что пользователи группы B совершают более дорогие покупки (например, они могли не использовать промокоды при оплате подписки или брали подписку на более продолжительный срок со скидкой и тп)"
   ]
  },
  {
   "cell_type": "markdown",
   "metadata": {},
   "source": [
    "# Являются ли эти различия статистически значимыми?"
   ]
  },
  {
   "cell_type": "code",
   "execution_count": 38,
   "metadata": {},
   "outputs": [],
   "source": [
    "from scipy.stats import chi2, chi2_contingency\n",
    "from scipy.stats import shapiro\n",
    "from scipy.stats import mannwhitneyu\n",
    "from sklearn.utils import resample"
   ]
  },
  {
   "cell_type": "markdown",
   "metadata": {},
   "source": [
    "H0: доля активности не зависит от группы<br>\n",
    "<br>"
   ]
  },
  {
   "cell_type": "code",
   "execution_count": 39,
   "metadata": {},
   "outputs": [
    {
     "name": "stdout",
     "output_type": "stream",
     "text": [
      "Statistics=0.807, p=0.116\n",
      "Sample looks Gaussian\n"
     ]
    }
   ],
   "source": [
    "# Shapiro-Wilk Test\n",
    "# normality test\n",
    "stat, p = shapiro(df_merged.pivot_table(['id'], ['grp'], ['actived'], aggfunc='count').sort_values('grp'))\n",
    "print('Statistics=%.3f, p=%.3f' % (stat, p))\n",
    "\n",
    "# interpret\n",
    "alpha = 0.05\n",
    "if p > alpha:\n",
    "    print('Sample looks Gaussian')\n",
    "else:\n",
    "    print('Sample does not look Gaussian')"
   ]
  },
  {
   "cell_type": "markdown",
   "metadata": {},
   "source": [
    "Можем применить критерий Пирсона (chi square)"
   ]
  },
  {
   "cell_type": "code",
   "execution_count": 40,
   "metadata": {},
   "outputs": [
    {
     "name": "stdout",
     "output_type": "stream",
     "text": [
      "Выборки для А и B групп соответственно\n",
      " [[13049.65209987  1643.34790013]\n",
      " [53185.34790013  6697.65209987]] \n",
      "\n",
      "probability = 0.950, critical = 3.841, stat = 9.380\n",
      "Dependent (reject H0)\n",
      "significance = 0.050, pvalue = 0.002\n",
      "Dependent (reject H0)\n"
     ]
    }
   ],
   "source": [
    "stat, p, dof, expected = chi2_contingency(df_merged.pivot_table(['id'], ['grp'], ['actived'], aggfunc='count').sort_values('grp'))\n",
    "print('Выборки для А и B групп соответственно\\n', expected, '\\n')\n",
    "\n",
    "# interpret test-statistic\n",
    "# dof = 1\n",
    "prob = 0.95\n",
    "critical = chi2.ppf(prob, dof)\n",
    "print('probability = %.3f, critical = %.3f, stat = %.3f' % (prob, critical, stat))\n",
    "if abs(stat) >= critical:\n",
    "    print('Dependent (reject H0)')\n",
    "else:\n",
    "    print('Independent (fail to reject H0)')\n",
    "\n",
    "# interpret p-value\n",
    "alpha = 1.0 - prob\n",
    "print('significance = %.3f, pvalue = %.3f' % (alpha, p))\n",
    "if p <= alpha:\n",
    "    print('Dependent (reject H0)')\n",
    "else:\n",
    "    print('Independent (fail to reject H0)')"
   ]
  },
  {
   "cell_type": "markdown",
   "metadata": {},
   "source": [
    "> Отвергаем H0. Имеются статистически значимые различия"
   ]
  },
  {
   "cell_type": "markdown",
   "metadata": {},
   "source": [
    "H0: СR не зависит от группы"
   ]
  },
  {
   "cell_type": "code",
   "execution_count": 41,
   "metadata": {},
   "outputs": [
    {
     "name": "stdout",
     "output_type": "stream",
     "text": [
      "Sample looks Gaussian\n"
     ]
    }
   ],
   "source": [
    "# Shapiro-Wilk Test\n",
    "# normality test\n",
    "stat, p = shapiro(df_merged[df_merged['actived'] == 1].pivot_table(['id'], ['grp'], ['paying_user'], aggfunc='count').sort_values('grp'))\n",
    "\n",
    "# interpret\n",
    "alpha = 0.05\n",
    "if p > alpha:\n",
    "    print('Sample looks Gaussian')\n",
    "else:\n",
    "    print('Sample does not look Gaussian')"
   ]
  },
  {
   "cell_type": "markdown",
   "metadata": {},
   "source": [
    "Можем применить критерий Пирсона (chi square)"
   ]
  },
  {
   "cell_type": "code",
   "execution_count": 43,
   "metadata": {},
   "outputs": [
    {
     "name": "stdout",
     "output_type": "stream",
     "text": [
      "Выборки для А и B групп соответственно\n",
      " [[1465.71897854   72.28102146]\n",
      " [6483.28102146  319.71897854]] \n",
      "\n",
      "probability = 0.950, critical = 3.841, stat = 0.485\n",
      "Independent (fail to reject H0)\n",
      "significance = 0.050, pvalue = 0.486\n",
      "Independent (fail to reject H0)\n"
     ]
    }
   ],
   "source": [
    "stat, p, dof, expected = chi2_contingency(df_merged[df_merged['actived'] == 1].pivot_table(['id'], ['grp'], ['paying_user'], aggfunc='count').sort_values('grp'))\n",
    "print('Выборки для А и B групп соответственно\\n', expected, '\\n')\n",
    "\n",
    "# interpret test-statistic\n",
    "# dof = 1\n",
    "prob = 0.95\n",
    "critical = chi2.ppf(prob, dof)\n",
    "print('probability = %.3f, critical = %.3f, stat = %.3f' % (prob, critical, stat))\n",
    "if abs(stat) >= critical:\n",
    "    print('Dependent (reject H0)')\n",
    "else:\n",
    "    print('Independent (fail to reject H0)')\n",
    "\n",
    "# interpret p-value\n",
    "alpha = 1.0 - prob\n",
    "print('significance = %.3f, pvalue = %.3f' % (alpha, p))\n",
    "if p <= alpha:\n",
    "    print('Dependent (reject H0)')\n",
    "else:\n",
    "    print('Independent (fail to reject H0)')"
   ]
  },
  {
   "cell_type": "markdown",
   "metadata": {},
   "source": [
    "> Неотвергаем H0. Не имеются статистически значимые различия"
   ]
  },
  {
   "cell_type": "markdown",
   "metadata": {},
   "source": [
    "H0: ARPPU и ARPU (оба зависят от одного критерия - выручки) в группах различается статистически значимо"
   ]
  },
  {
   "cell_type": "code",
   "execution_count": 44,
   "metadata": {},
   "outputs": [
    {
     "name": "stdout",
     "output_type": "stream",
     "text": [
      "Statistics=0.735, p=0.000\n",
      "Sample does not look Gaussian\n"
     ]
    }
   ],
   "source": [
    "# Shapiro-Wilk Test\n",
    "# normality test\n",
    "stat, p = shapiro(df_merged[(df_merged['actived'] == 1) & (df_merged['rev'] > 0) & (df_merged['grp'] == 'A')]['rev'])\n",
    "print('Statistics=%.3f, p=%.3f' % (stat, p))\n",
    "# interpret\n",
    "alpha = 0.05\n",
    "if p > alpha:\n",
    "\tprint('Sample looks Gaussian')\n",
    "else:\n",
    "\tprint('Sample does not look Gaussian')"
   ]
  },
  {
   "cell_type": "code",
   "execution_count": 45,
   "metadata": {},
   "outputs": [
    {
     "name": "stdout",
     "output_type": "stream",
     "text": [
      "Statistics=0.855, p=0.000\n",
      "Sample does not look Gaussian\n"
     ]
    }
   ],
   "source": [
    "# Shapiro-Wilk Test\n",
    "# normality test\n",
    "stat, p = shapiro(df_merged[(df_merged['actived'] == 1) & (df_merged['rev'] > 0) & (df_merged['grp'] == 'B')]['rev'])\n",
    "print('Statistics=%.3f, p=%.3f' % (stat, p))\n",
    "# interpret\n",
    "alpha = 0.05\n",
    "if p > alpha:\n",
    "\tprint('Sample looks Gaussian')\n",
    "else:\n",
    "\tprint('Sample does not look Gaussian')"
   ]
  },
  {
   "cell_type": "code",
   "execution_count": 46,
   "metadata": {},
   "outputs": [
    {
     "data": {
      "text/plain": [
       "grp\n",
       "A    [[AxesSubplot(0.125,0.125;0.775x0.755)]]\n",
       "B    [[AxesSubplot(0.125,0.125;0.775x0.755)]]\n",
       "dtype: object"
      ]
     },
     "execution_count": 46,
     "metadata": {},
     "output_type": "execute_result"
    },
    {
     "data": {
      "image/png": "[encoded data removed]",
      "text/plain": [
       "<Figure size 432x288 with 1 Axes>"
      ]
     },
     "metadata": {
      "needs_background": "light"
     },
     "output_type": "display_data"
    },
    {
     "data": {
      "image/png": "[encoded data removed]",
      "text/plain": [
       "<Figure size 432x288 with 1 Axes>"
      ]
     },
     "metadata": {
      "needs_background": "light"
     },
     "output_type": "display_data"
    }
   ],
   "source": [
    "df_merged[(df_merged['rev'] > 0)&(df_merged['actived'] == 1)][['rev', 'grp']].groupby('grp').hist()"
   ]
  },
  {
   "cell_type": "markdown",
   "metadata": {},
   "source": [
    "Обе выборки распределены не нормально"
   ]
  },
  {
   "cell_type": "markdown",
   "metadata": {},
   "source": [
    "Используем бутстрап"
   ]
  },
  {
   "cell_type": "code",
   "execution_count": 47,
   "metadata": {},
   "outputs": [],
   "source": [
    "df_2 = df_merged[(df_merged['rev'] > 0)&(df_merged['actived'] == 1)][['rev', 'grp']]"
   ]
  },
  {
   "cell_type": "code",
   "execution_count": 48,
   "metadata": {},
   "outputs": [],
   "source": [
    "def bootstrap_ci(df, variable, classes, repetitions = 1000, alpha = 0.05, random_state=None):\n",
    "  \n",
    "    df = df[[variable, classes]]\n",
    "    bootstrap_sample_size = len(df) \n",
    "    \n",
    "    mean_diffs = []\n",
    "\n",
    "    for i in range(repetitions):\n",
    "        bootstrap_sample = df.sample(n = bootstrap_sample_size, replace = True, random_state = random_state)\n",
    "        mean_diff = bootstrap_sample.groupby(classes).mean().iloc[1,0] - bootstrap_sample.groupby(classes).mean().iloc[0,0]\n",
    "        mean_diffs.append(mean_diff)\n",
    "\n",
    "    # confidence interval\n",
    "    left = np.percentile(mean_diffs, alpha/2*100)\n",
    "    right = np.percentile(mean_diffs, 100-alpha/2*100)\n",
    "\n",
    "    # point estimate\n",
    "    point_est = df.groupby(classes).mean().iloc[1,0] - df.groupby(classes).mean().iloc[0,0]\n",
    "\n",
    "    print('Point estimate of difference between means:', round(point_est,2))\n",
    "    print((1-alpha)*100,'%','confidence interval for the difference between means:', (round(left,2), round(right,2))) "
   ]
  },
  {
   "cell_type": "code",
   "execution_count": 49,
   "metadata": {},
   "outputs": [
    {
     "name": "stdout",
     "output_type": "stream",
     "text": [
      "Point estimate of difference between means: 324.29\n",
      "95.0 % confidence interval for the difference between means: (99.45, 535.93)\n"
     ]
    }
   ],
   "source": [
    "bootstrap_ci(df_2, 'rev', 'grp', repetitions = 1000, alpha = 0.05, random_state=None)"
   ]
  },
  {
   "cell_type": "markdown",
   "metadata": {},
   "source": [
    "99.45 не более чем в 2.5% случаев (симметричный интервал) разность средних будет меньше 99.45 <br>\n",
    "что значит что в 97.5% эта разница больше 99.45.<br>\n",
    "=>у двух выборок не отличаются средние"
   ]
  },
  {
   "cell_type": "markdown",
   "metadata": {},
   "source": [
    ">Неотвергаем H0. Не имеются статистически значимые различия. "
   ]
  },
  {
   "cell_type": "markdown",
   "metadata": {},
   "source": [
    "# Стоит ли запускать новую механику на всех пользователей?"
   ]
  },
  {
   "cell_type": "markdown",
   "metadata": {},
   "source": [
    "\n",
    "CR в группе B меньше, но по ходу теста мы показали, что показатель не является статистически значимым.<br>\n",
    "Другие показатели для группы B больше, и их различия с группой А являются статистически значимыми.\n",
    ">>Новую механику стоит запускать на всех пользователей"
   ]
  },
  {
   "cell_type": "code",
   "execution_count": null,
   "metadata": {},
   "outputs": [],
   "source": []
  }
 ],
 "metadata": {
  "kernelspec": {
   "display_name": "Python 3",
   "language": "python",
   "name": "python3"
  },
  "language_info": {
   "codemirror_mode": {
    "name": "ipython",
    "version": 3
   },
   "file_extension": ".py",
   "mimetype": "text/x-python",
   "name": "python",
   "nbconvert_exporter": "python",
   "pygments_lexer": "ipython3",
   "version": "3.6.10"
  }
 },
 "nbformat": 4,
 "nbformat_minor": 4
}
